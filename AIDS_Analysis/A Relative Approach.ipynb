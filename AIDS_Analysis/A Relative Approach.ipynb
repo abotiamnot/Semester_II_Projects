{
 "cells": [
  {
   "cell_type": "code",
   "execution_count": 1,
   "metadata": {
    "collapsed": true
   },
   "outputs": [],
   "source": [
    "import pandas\n",
    "import numpy\n",
    "import plotly.plotly as py\n",
    "import plotly.graph_objs as go"
   ]
  },
  {
   "cell_type": "code",
   "execution_count": 2,
   "metadata": {
    "collapsed": true
   },
   "outputs": [],
   "source": [
    "def clean_data(x):\n",
    "    x = x.replace(' ', '')\n",
    "    if( x.isalpha() == True):\n",
    "        return x\n",
    "    if (x.isnumeric() == False):\n",
    "        return numpy.NaN\n",
    "    else:\n",
    "        return int (x)"
   ]
  },
  {
   "cell_type": "code",
   "execution_count": 3,
   "metadata": {
    "collapsed": true
   },
   "outputs": [],
   "source": [
    "def filter_data(source, start, end):\n",
    "    data = pandas.read_csv(\"Data\\\\\" + source)\n",
    "    data = data.rename(str.strip, axis = 'columns')\n",
    "    data = data.set_index('Country')\n",
    "    for colname in data.columns:\n",
    "        if not (colname.isnumeric()):\n",
    "            data = data.drop( columns = colname )\n",
    "    # Let's clean the data\n",
    "    data = data.applymap(clean_data).dropna().transpose()\n",
    "    data = data.truncate(start, end)\n",
    "    return data"
   ]
  },
  {
   "cell_type": "code",
   "execution_count": 4,
   "metadata": {
    "collapsed": true
   },
   "outputs": [],
   "source": [
    "def delta(data, country):\n",
    "    x = []\n",
    "    for year in range(1990, 2016):\n",
    "        x.append( ( ( data[country][str(year + 1)] - data[country][str(year)] ) / data[country][str(year)] ) )\n",
    "    return x"
   ]
  },
  {
   "cell_type": "code",
   "execution_count": 5,
   "metadata": {
    "collapsed": true
   },
   "outputs": [],
   "source": [
    "def steps(data_gradient):\n",
    "    initial = 100\n",
    "    pop_year = []\n",
    "    for change in data_gradient:\n",
    "        pop_year.append(initial)\n",
    "        initial = initial*(1 + change)\n",
    "    return pop_year"
   ]
  },
  {
   "cell_type": "code",
   "execution_count": 6,
   "metadata": {
    "collapsed": true
   },
   "outputs": [],
   "source": [
    "data = []\n",
    "start = '1990' \n",
    "end = '2016'\n",
    "data.append(filter_data('AIDS-related deaths_Number of AIDS-related deaths_Population_ All ages.csv', start, end))\n",
    "data.append(filter_data('New HIV infections_Number of new HIV infections_Population_ All ages.csv', start, end))\n",
    "data.append(filter_data('People living with HIV_Number of people living with HIV_Population_ All ages.csv', start, end))"
   ]
  },
  {
   "cell_type": "code",
   "execution_count": 7,
   "metadata": {},
   "outputs": [
    {
     "data": {
      "text/html": [
       "<iframe id=\"igraph\" scrolling=\"no\" style=\"border:none;\" seamless=\"seamless\" src=\"https://plot.ly/~abotiamnot/36.embed\" height=\"525px\" width=\"100%\"></iframe>"
      ],
      "text/plain": [
       "<plotly.tools.PlotlyDisplay object>"
      ]
     },
     "execution_count": 7,
     "metadata": {},
     "output_type": "execute_result"
    }
   ],
   "source": [
    "trace = []\n",
    "y = ['Zimbabwe', 'Ghana', 'Mali', 'Nigeria', 'Cameroon', 'South Africa', 'Botswana', 'Ethiopia', 'India']\n",
    "for country in y:\n",
    "    data_gradient = delta(data[0], country)\n",
    "    trace.append(go.Scatter(x = list(range(1991, 2017)), y = steps(data_gradient), mode = 'lines', name = country))\n",
    "layout = go.Layout(\n",
    "    title='AIDS Related Deaths',\n",
    "    xaxis=dict(\n",
    "        title='Year',\n",
    "        titlefont=dict(\n",
    "            family='Courier New, monospace',\n",
    "            size=18,\n",
    "            color='#7f7f7f'\n",
    "        )\n",
    "    ),\n",
    "    yaxis=dict(\n",
    "        title='Deaths',\n",
    "        titlefont=dict(\n",
    "            family='Courier New, monospace',\n",
    "            size=18,\n",
    "            color='#7f7f7f'\n",
    "        )\n",
    "    )\n",
    ")\n",
    "fig = go.Figure(data=trace, layout=layout)\n",
    "py.iplot(fig, filename='African Countries vs India Death Gradient')"
   ]
  },
  {
   "cell_type": "code",
   "execution_count": 8,
   "metadata": {},
   "outputs": [
    {
     "data": {
      "text/html": [
       "<iframe id=\"igraph\" scrolling=\"no\" style=\"border:none;\" seamless=\"seamless\" src=\"https://plot.ly/~abotiamnot/38.embed\" height=\"525px\" width=\"100%\"></iframe>"
      ],
      "text/plain": [
       "<plotly.tools.PlotlyDisplay object>"
      ]
     },
     "execution_count": 8,
     "metadata": {},
     "output_type": "execute_result"
    }
   ],
   "source": [
    "trace = []\n",
    "y = ['Zimbabwe', 'Ghana', 'Mali', 'Nigeria', 'Cameroon', 'South Africa', 'Botswana', 'Ethiopia', 'India']\n",
    "for country in y:\n",
    "    data_gradient = delta(data[1], country)\n",
    "    trace.append(go.Scatter(x = list(range(1991, 2017)), y = steps(data_gradient), mode = 'lines', name = country))\n",
    "layout = go.Layout(\n",
    "    title='New Infections',\n",
    "    xaxis=dict(\n",
    "        title='Year',\n",
    "        titlefont=dict(\n",
    "            family='Courier New, monospace',\n",
    "            size=18,\n",
    "            color='#7f7f7f'\n",
    "        )\n",
    "    ),\n",
    "    yaxis=dict(\n",
    "        title='New Infections',\n",
    "        titlefont=dict(\n",
    "            family='Courier New, monospace',\n",
    "            size=18,\n",
    "            color='#7f7f7f'\n",
    "        )\n",
    "    )\n",
    ")\n",
    "fig = go.Figure(data=trace, layout=layout)\n",
    "py.iplot(fig, filename='African Countries vs India New Infection Gradient')"
   ]
  },
  {
   "cell_type": "code",
   "execution_count": 9,
   "metadata": {},
   "outputs": [
    {
     "data": {
      "text/html": [
       "<iframe id=\"igraph\" scrolling=\"no\" style=\"border:none;\" seamless=\"seamless\" src=\"https://plot.ly/~abotiamnot/42.embed\" height=\"525px\" width=\"100%\"></iframe>"
      ],
      "text/plain": [
       "<plotly.tools.PlotlyDisplay object>"
      ]
     },
     "execution_count": 9,
     "metadata": {},
     "output_type": "execute_result"
    }
   ],
   "source": [
    "trace = []\n",
    "y = ['Zimbabwe', 'Ghana', 'Mali', 'Nigeria', 'Cameroon', 'South Africa', 'Botswana', 'Ethiopia', 'India']\n",
    "for country in y:\n",
    "    data_gradient = delta(data[2], country)\n",
    "    trace.append(go.Scatter(x = list(range(1991, 2017)), y = steps(data_gradient), mode = 'lines', name = country))\n",
    "layout = go.Layout(\n",
    "    title='HIV Infected',\n",
    "    xaxis=dict(\n",
    "        title='Year',\n",
    "        titlefont=dict(\n",
    "            family='Courier New, monospace',\n",
    "            size=18,\n",
    "            color='#7f7f7f'\n",
    "        )\n",
    "    ),\n",
    "    yaxis=dict(\n",
    "        title='Infectees',\n",
    "        titlefont=dict(\n",
    "            family='Courier New, monospace',\n",
    "            size=18,\n",
    "            color='#7f7f7f'\n",
    "        )\n",
    "    )\n",
    ")\n",
    "fig = go.Figure(data=trace, layout=layout)\n",
    "py.iplot(fig, filename='African Countries vs India New Population Gradient')"
   ]
  }
 ],
 "metadata": {
  "kernelspec": {
   "display_name": "Python 3",
   "language": "python",
   "name": "python3"
  },
  "language_info": {
   "codemirror_mode": {
    "name": "ipython",
    "version": 3
   },
   "file_extension": ".py",
   "mimetype": "text/x-python",
   "name": "python",
   "nbconvert_exporter": "python",
   "pygments_lexer": "ipython3",
   "version": "3.6.3"
  }
 },
 "nbformat": 4,
 "nbformat_minor": 2
}
