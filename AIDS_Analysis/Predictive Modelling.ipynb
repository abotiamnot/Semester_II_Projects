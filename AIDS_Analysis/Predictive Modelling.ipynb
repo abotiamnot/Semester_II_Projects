{
 "cells": [
  {
   "cell_type": "code",
   "execution_count": 15,
   "metadata": {
    "collapsed": true
   },
   "outputs": [],
   "source": [
    "import pandas\n",
    "import numpy\n",
    "import matplotlib.pyplot as plt"
   ]
  },
  {
   "cell_type": "code",
   "execution_count": 16,
   "metadata": {
    "collapsed": true
   },
   "outputs": [],
   "source": [
    "def clean_data(x):\n",
    "    x = x.replace(' ', '')\n",
    "    if( x.isalpha() == True):\n",
    "        return x\n",
    "    if (x.isnumeric() == False):\n",
    "        return numpy.NaN\n",
    "    else:\n",
    "        return int (x)"
   ]
  },
  {
   "cell_type": "code",
   "execution_count": 17,
   "metadata": {
    "collapsed": true
   },
   "outputs": [],
   "source": [
    "def filter_data(source, start, end):\n",
    "    data = pandas.read_csv(\"Data\\\\\" + source)\n",
    "    data = data.rename(str.strip, axis = 'columns')\n",
    "    data = data.set_index('Country')\n",
    "    for colname in data.columns:\n",
    "        if not (colname.isnumeric()):\n",
    "            data = data.drop( columns = colname )\n",
    "    # Let's clean the data\n",
    "    data = data.applymap(clean_data).dropna().transpose()\n",
    "    data = data.truncate(start, end)\n",
    "    return data"
   ]
  },
  {
   "cell_type": "code",
   "execution_count": 18,
   "metadata": {
    "collapsed": true
   },
   "outputs": [],
   "source": [
    "data = []\n",
    "start = '1990' \n",
    "end = '2016'\n",
    "data.append(filter_data('AIDS-related deaths_Number of AIDS-related deaths_Population_ All ages.csv', start, end))\n",
    "data.append(filter_data('New HIV infections_Number of new HIV infections_Population_ All ages.csv', start, end))\n",
    "data.append(filter_data('People living with HIV_Number of people living with HIV_Population_ All ages.csv', start, end))"
   ]
  },
  {
   "cell_type": "code",
   "execution_count": 19,
   "metadata": {},
   "outputs": [
    {
     "data": {
      "text/plain": [
       "1990     160000.0\n",
       "1991     250000.0\n",
       "1992     380000.0\n",
       "1993     540000.0\n",
       "1994     740000.0\n",
       "1995     960000.0\n",
       "1996    1200000.0\n",
       "1997    1400000.0\n",
       "1998    1700000.0\n",
       "1999    1900000.0\n",
       "2000    2000000.0\n",
       "2001    2100000.0\n",
       "2002    2200000.0\n",
       "2003    2300000.0\n",
       "2004    2300000.0\n",
       "2005    2300000.0\n",
       "2006    2300000.0\n",
       "2007    2200000.0\n",
       "2008    2200000.0\n",
       "2009    2200000.0\n",
       "2010    2200000.0\n",
       "2011    2100000.0\n",
       "2012    2100000.0\n",
       "2013    2100000.0\n",
       "2014    2100000.0\n",
       "2015    2100000.0\n",
       "2016    2100000.0\n",
       "Name: India, dtype: float64"
      ]
     },
     "execution_count": 19,
     "metadata": {},
     "output_type": "execute_result"
    }
   ],
   "source": [
    "data[2]['India']"
   ]
  },
  {
   "cell_type": "code",
   "execution_count": 20,
   "metadata": {
    "collapsed": true
   },
   "outputs": [],
   "source": [
    "death_x = list(range(1990, 2017))\n",
    "death_y = list(data[0]['India'])\n",
    "death_equation = numpy.polyfit(death_x, death_y, 4)\n",
    "death_equation_ = numpy.poly1d(death_equation)"
   ]
  },
  {
   "cell_type": "code",
   "execution_count": 21,
   "metadata": {},
   "outputs": [
    {
     "data": {
      "image/png": "[encoded data removed]",
      "text/plain": [
       "<matplotlib.figure.Figure at 0x19af8a85588>"
      ]
     },
     "metadata": {},
     "output_type": "display_data"
    }
   ],
   "source": [
    "plt.plot(death_x, death_y, '.', list(range(1990, 2025)), death_equation_(list(range(1990, 2025))))\n",
    "plt.show()"
   ]
  },
  {
   "cell_type": "code",
   "execution_count": 22,
   "metadata": {},
   "outputs": [
    {
     "name": "stdout",
     "output_type": "stream",
     "text": [
      "       4             3             2\n",
      "3.955 x - 3.173e+04 x + 9.546e+07 x - 1.276e+11 x + 6.399e+13\n"
     ]
    }
   ],
   "source": [
    "print(death_equation_)"
   ]
  },
  {
   "cell_type": "code",
   "execution_count": 23,
   "metadata": {
    "collapsed": true
   },
   "outputs": [],
   "source": [
    "new_x = list(range(1990, 2017))\n",
    "new_y = list(data[1]['India'])\n",
    "new_equation = numpy.polyfit(new_x, new_y, 4)\n",
    "new_equation_ = numpy.poly1d(new_equation)"
   ]
  },
  {
   "cell_type": "code",
   "execution_count": 24,
   "metadata": {},
   "outputs": [
    {
     "data": {
      "text/plain": [
       "79105.4375"
      ]
     },
     "execution_count": 24,
     "metadata": {},
     "output_type": "execute_result"
    }
   ],
   "source": [
    "new_equation_(2024)"
   ]
  },
  {
   "cell_type": "code",
   "execution_count": 27,
   "metadata": {},
   "outputs": [
    {
     "data": {
      "image/png": "[encoded data removed]",
      "text/plain": [
       "<matplotlib.figure.Figure at 0x19af8ab0400>"
      ]
     },
     "metadata": {},
     "output_type": "display_data"
    }
   ],
   "source": [
    "plt.plot(new_x, new_y, '.', list(range(1990, 2028)), new_equation_(list(range(1990, 2028))))\n",
    "plt.savefig('New Infections Predicion')\n",
    "plt.show()"
   ]
  },
  {
   "cell_type": "code",
   "execution_count": 20,
   "metadata": {},
   "outputs": [
    {
     "name": "stdout",
     "output_type": "stream",
     "text": [
      "        4             3             2\n",
      "-3.766 x + 3.028e+04 x - 9.132e+07 x + 1.224e+11 x - 6.151e+13\n"
     ]
    }
   ],
   "source": [
    "print(new_equation_)"
   ]
  },
  {
   "cell_type": "code",
   "execution_count": 6,
   "metadata": {
    "collapsed": true
   },
   "outputs": [],
   "source": [
    "total_x = list(range(1990, 2017))\n",
    "total_y = list(data[2]['India'])\n",
    "total_equation = numpy.polyfit(total_x, total_y, 5)\n",
    "total_equation_ = numpy.poly1d(total_equation)"
   ]
  },
  {
   "cell_type": "code",
   "execution_count": 7,
   "metadata": {},
   "outputs": [
    {
     "name": "stdout",
     "output_type": "stream",
     "text": [
      "        5             4            3             2\n",
      "-2.534 x + 2.542e+04 x - 1.02e+08 x + 2.046e+11 x - 2.053e+14 x + 8.237e+16\n"
     ]
    }
   ],
   "source": [
    "print(total_equation_)"
   ]
  },
  {
   "cell_type": "code",
   "execution_count": 8,
   "metadata": {},
   "outputs": [
    {
     "data": {
      "text/plain": [
       "698592.0"
      ]
     },
     "execution_count": 8,
     "metadata": {},
     "output_type": "execute_result"
    }
   ],
   "source": [
    "total_equation_(2024)"
   ]
  },
  {
   "cell_type": "code",
   "execution_count": 13,
   "metadata": {},
   "outputs": [
    {
     "data": {
      "image/png": "[encoded data removed]",
      "text/plain": [
       "<matplotlib.figure.Figure at 0x19af564fda0>"
      ]
     },
     "metadata": {},
     "output_type": "display_data"
    }
   ],
   "source": [
    "plt.plot(total_x, total_y, '.', list(range(1990, 2026)), total_equation_(list(range(1990, 2026))))\n",
    "plt.savefig('Population')\n",
    "plt.show()"
   ]
  },
  {
   "cell_type": "code",
   "execution_count": null,
   "metadata": {
    "collapsed": true
   },
   "outputs": [],
   "source": []
  }
 ],
 "metadata": {
  "kernelspec": {
   "display_name": "Python 3",
   "language": "python",
   "name": "python3"
  },
  "language_info": {
   "codemirror_mode": {
    "name": "ipython",
    "version": 3
   },
   "file_extension": ".py",
   "mimetype": "text/x-python",
   "name": "python",
   "nbconvert_exporter": "python",
   "pygments_lexer": "ipython3",
   "version": "3.6.3"
  }
 },
 "nbformat": 4,
 "nbformat_minor": 2
}
