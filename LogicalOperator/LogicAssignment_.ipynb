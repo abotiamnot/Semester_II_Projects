{
 "cells": [
  {
   "cell_type": "code",
   "execution_count": 196,
   "metadata": {
    "collapsed": true
   },
   "outputs": [],
   "source": [
    "def input_equation():\n",
    "    print(\"Enter equation without whitespaces\")\n",
    "    equation = input()\n",
    "    var = []\n",
    "    for character in equation:\n",
    "        if(character.isalpha):\n",
    "            if(character not in var):\n",
    "                var.append(character)\n",
    "    answer = fill_variable(var, equation)\n",
    "    print(\"The answer is:\", answer)"
   ]
  },
  {
   "cell_type": "code",
   "execution_count": 197,
   "metadata": {},
   "outputs": [],
   "source": [
    "def fill_variable(var, equation):\n",
    "    print(\"The variables are the following\")\n",
    "    for v in var:\n",
    "        if(v.isalpha()):\n",
    "            print(v)\n",
    "    equation_n = equation\n",
    "    for v in var:\n",
    "        if(v.isalpha()):\n",
    "            print(\"Enter the value of:\", v)\n",
    "            temp = input()\n",
    "            equation_n = equation_n.replace(v, temp)\n",
    "    return calculate(equation_n)"
   ]
  },
  {
   "cell_type": "code",
   "execution_count": 198,
   "metadata": {},
   "outputs": [],
   "source": [
    "def calculate(equation):\n",
    "    print(\"Calculating now\")\n",
    "    equation = list(equation)\n",
    "    equation = solve_complement(equation)\n",
    "    equation = solve_and(equation)\n",
    "    equation = solve_or(equation)\n",
    "    return equation"
   ]
  },
  {
   "cell_type": "code",
   "execution_count": 199,
   "metadata": {
    "collapsed": true
   },
   "outputs": [],
   "source": [
    "def solve_complement(equation):\n",
    "    unsolve = True\n",
    "    while(unsolve):\n",
    "        if(\"'\" in equation):\n",
    "            ind = equation.index(\"'\")\n",
    "            if(equation [ ind - 1 ] == '1'):\n",
    "                equation [ ind - 1 ] = 0\n",
    "                equation.pop(ind)\n",
    "            else:\n",
    "                equation [ ind - 1] = 1\n",
    "                equation.pop(ind)\n",
    "        else:\n",
    "            print(\"Solved Complements\")\n",
    "            print(equation)\n",
    "            unsolve = False\n",
    "            return equation"
   ]
  },
  {
   "cell_type": "code",
   "execution_count": 200,
   "metadata": {},
   "outputs": [],
   "source": [
    "def solve_and(equation):\n",
    "    unsolve = True\n",
    "    while(unsolve):\n",
    "        if(\".\" in equation):\n",
    "            ind = equation.index(\".\")\n",
    "            if(equation[ind - 1] == '1' and equation[ind + 1] == '1'):\n",
    "                equation[ ind ] = '1'\n",
    "                equation.pop(ind - 1), equation.pop(ind)\n",
    "            else:\n",
    "                equation[ ind ] = '0'\n",
    "                equation.pop(ind - 1)\n",
    "                equation.pop(ind)\n",
    "        else:\n",
    "            print(\"Solved AND\")\n",
    "            print(equation)\n",
    "            unsolve = False\n",
    "            return equation"
   ]
  },
  {
   "cell_type": "code",
   "execution_count": 201,
   "metadata": {
    "collapsed": true
   },
   "outputs": [],
   "source": [
    "def solve_or(equation):\n",
    "    unsolve = True\n",
    "    while(unsolve):\n",
    "        if(\"+\" in equation):\n",
    "            ind = equation.index(\"+\")\n",
    "            if(equation[ind - 1] == '0' and equation[ind + 1] == '0'):\n",
    "                equation[ ind ] = '0'\n",
    "                equation.pop(ind - 1), equation.pop(ind)\n",
    "            else:\n",
    "                equation[ ind ] = '1'\n",
    "                equation.pop(ind - 1)\n",
    "                equation.pop(ind)\n",
    "        else:\n",
    "            print(\"Solved OR\")\n",
    "            print(equation)\n",
    "            unsolve = False\n",
    "            return equation"
   ]
  },
  {
   "cell_type": "code",
   "execution_count": 202,
   "metadata": {},
   "outputs": [
    {
     "name": "stdout",
     "output_type": "stream",
     "text": [
      "Enter equation without whitespaces\n",
      "A'+B.C+D'\n",
      "The variables are the following\n",
      "A\n",
      "B\n",
      "C\n",
      "D\n",
      "Enter the value of: A\n",
      "0\n",
      "Enter the value of: B\n",
      "1\n",
      "Enter the value of: C\n",
      "1\n",
      "Enter the value of: D\n",
      "0\n",
      "Calculating now\n",
      "Solved Complements\n",
      "[1, '+', '1', '.', '1', '+', 1]\n",
      "Solved AND\n",
      "[1, '+', '1', '+', 1]\n",
      "Solved OR\n",
      "['1']\n",
      "The answer is: ['1']\n"
     ]
    }
   ],
   "source": [
    "input_equation()"
   ]
  },
  {
   "cell_type": "code",
   "execution_count": null,
   "metadata": {
    "collapsed": true
   },
   "outputs": [],
   "source": []
  }
 ],
 "metadata": {
  "kernelspec": {
   "display_name": "Python 3",
   "language": "python",
   "name": "python3"
  },
  "language_info": {
   "codemirror_mode": {
    "name": "ipython",
    "version": 3
   },
   "file_extension": ".py",
   "mimetype": "text/x-python",
   "name": "python",
   "nbconvert_exporter": "python",
   "pygments_lexer": "ipython3",
   "version": "3.6.3"
  }
 },
 "nbformat": 4,
 "nbformat_minor": 2
}
